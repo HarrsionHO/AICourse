{
  "nbformat": 4,
  "nbformat_minor": 0,
  "metadata": {
    "colab": {
      "provenance": [],
      "authorship_tag": "ABX9TyOY260q9Cxq8J6b6wWtitSt",
      "include_colab_link": true
    },
    "kernelspec": {
      "name": "python3",
      "display_name": "Python 3"
    },
    "language_info": {
      "name": "python"
    }
  },
  "cells": [
    {
      "cell_type": "markdown",
      "metadata": {
        "id": "view-in-github",
        "colab_type": "text"
      },
      "source": [
        "<a href=\"https://colab.research.google.com/github/HarrsionHO/AICourse/blob/main/MyFirstNotebook.ipynb\" target=\"_parent\"><img src=\"https://colab.research.google.com/assets/colab-badge.svg\" alt=\"Open In Colab\"/></a>"
      ]
    },
    {
      "cell_type": "code",
      "source": [
        "print(\"helo wrold\")"
      ],
      "metadata": {
        "colab": {
          "base_uri": "https://localhost:8080/",
          "height": 0
        },
        "id": "VVi8UhAzalnc",
        "outputId": "c8c8ba53-8ec6-4788-c3a6-502131675898"
      },
      "execution_count": 2,
      "outputs": [
        {
          "output_type": "stream",
          "name": "stdout",
          "text": [
            "helo wrold\n"
          ]
        }
      ]
    },
    {
      "cell_type": "markdown",
      "source": [
        "doobus goobus"
      ],
      "metadata": {
        "id": "Jfi708STbH0G"
      }
    },
    {
      "cell_type": "code",
      "source": [
        "!python --version\n"
      ],
      "metadata": {
        "colab": {
          "base_uri": "https://localhost:8080/",
          "height": 0
        },
        "id": "dMS9QeZrbSxk",
        "outputId": "b9bbb2ab-0f9b-4356-f5d0-cc9aff4582ac"
      },
      "execution_count": 3,
      "outputs": [
        {
          "output_type": "stream",
          "name": "stdout",
          "text": [
            "Python 3.10.12\n"
          ]
        }
      ]
    },
    {
      "cell_type": "code",
      "source": [],
      "metadata": {
        "id": "w_JkOMgAbVXk"
      },
      "execution_count": null,
      "outputs": []
    },
    {
      "cell_type": "code",
      "source": [
        "for num in range(0,40):\n",
        "  if num==0:\n",
        "    print (num, \" is zero\")\n",
        "  elif num%10==0:\n",
        "    print (num, \" is a factor of 10\")\n",
        "  elif num%5==0:\n",
        "    print (num, \" is a factor of 5\")\n",
        "  elif num%2==0:\n",
        "    print (num, \" is even\")\n",
        "  else:\n",
        "    print (num,\" is odd\")"
      ],
      "metadata": {
        "colab": {
          "base_uri": "https://localhost:8080/",
          "height": 0
        },
        "id": "dit_-K0ed-eG",
        "outputId": "5a2e973c-34cf-4b16-830c-4ab727a44e74"
      },
      "execution_count": 12,
      "outputs": [
        {
          "output_type": "stream",
          "name": "stdout",
          "text": [
            "0  is zero\n",
            "1  is odd\n",
            "2  is even\n",
            "3  is odd\n",
            "4  is even\n",
            "5  is a factor of 5\n",
            "6  is even\n",
            "7  is odd\n",
            "8  is even\n",
            "9  is odd\n",
            "10  is a factor of 10\n",
            "11  is odd\n",
            "12  is even\n",
            "13  is odd\n",
            "14  is even\n",
            "15  is a factor of 5\n",
            "16  is even\n",
            "17  is odd\n",
            "18  is even\n",
            "19  is odd\n",
            "20  is a factor of 10\n",
            "21  is odd\n",
            "22  is even\n",
            "23  is odd\n",
            "24  is even\n",
            "25  is a factor of 5\n",
            "26  is even\n",
            "27  is odd\n",
            "28  is even\n",
            "29  is odd\n",
            "30  is a factor of 10\n",
            "31  is odd\n",
            "32  is even\n",
            "33  is odd\n",
            "34  is even\n",
            "35  is a factor of 5\n",
            "36  is even\n",
            "37  is odd\n",
            "38  is even\n",
            "39  is odd\n"
          ]
        }
      ]
    },
    {
      "cell_type": "markdown",
      "source": [],
      "metadata": {
        "id": "AZ01J6Ted-Pw"
      }
    }
  ]
}