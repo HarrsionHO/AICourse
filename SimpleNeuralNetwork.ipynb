{
  "nbformat": 4,
  "nbformat_minor": 0,
  "metadata": {
    "colab": {
      "provenance": [],
      "authorship_tag": "ABX9TyN9AkplywjSy+z+KGoakjLM",
      "include_colab_link": true
    },
    "kernelspec": {
      "name": "python3",
      "display_name": "Python 3"
    },
    "language_info": {
      "name": "python"
    }
  },
  "cells": [
    {
      "cell_type": "markdown",
      "metadata": {
        "id": "view-in-github",
        "colab_type": "text"
      },
      "source": [
        "<a href=\"https://colab.research.google.com/github/HarrsionHO/AICourse/blob/main/SimpleNeuralNetwork.ipynb\" target=\"_parent\"><img src=\"https://colab.research.google.com/assets/colab-badge.svg\" alt=\"Open In Colab\"/></a>"
      ]
    },
    {
      "cell_type": "code",
      "source": [
        "from tensorflow.keras.models import Sequential\n",
        "from tensorflow.keras.layers import Dense\n",
        "from tensorflow.keras.optimizers import Adam"
      ],
      "metadata": {
        "id": "BM6ImtN6-cxA"
      },
      "execution_count": 2,
      "outputs": []
    },
    {
      "cell_type": "code",
      "source": [
        "X_train = [[0.1],[0.3],[0.7],[0.9]]\n",
        "y_train=[0,0,1,1]"
      ],
      "metadata": {
        "id": "nFwQA_pXA4bG"
      },
      "execution_count": 7,
      "outputs": []
    },
    {
      "cell_type": "code",
      "source": [
        "model =Sequential([Dense(1, input_shape=(1,), activation='sigmoid')])#neuron layer"
      ],
      "metadata": {
        "id": "sD1rrTMUBbhw"
      },
      "execution_count": 8,
      "outputs": []
    },
    {
      "cell_type": "code",
      "source": [
        "model.compile(loss='binary_crossentropy', optimizer=Adam(learning_rate=0.1),metrics=['accuracy'])"
      ],
      "metadata": {
        "id": "nENFaJVeD-ye"
      },
      "execution_count": 9,
      "outputs": []
    },
    {
      "cell_type": "code",
      "source": [
        "model.fit(X_train, y_train, epochs=1000, verbose=0)"
      ],
      "metadata": {
        "colab": {
          "base_uri": "https://localhost:8080/"
        },
        "id": "lzJ1ExwdG2Ds",
        "outputId": "279934b2-077d-444c-80f8-39322d39f067"
      },
      "execution_count": 10,
      "outputs": [
        {
          "output_type": "execute_result",
          "data": {
            "text/plain": [
              "<keras.src.callbacks.History at 0x7aa2e4645630>"
            ]
          },
          "metadata": {},
          "execution_count": 10
        }
      ]
    },
    {
      "cell_type": "code",
      "source": [
        "ndata=[[0.49]]\n",
        "prediction = model.predict(ndata)\n",
        "print(\"actual prediction:\", prediction[0][0])"
      ],
      "metadata": {
        "colab": {
          "base_uri": "https://localhost:8080/"
        },
        "id": "NYkJfT1Ghtm4",
        "outputId": "1a4c9b94-5ff1-4b8c-d8da-9783a1ab2356"
      },
      "execution_count": 13,
      "outputs": [
        {
          "output_type": "stream",
          "name": "stdout",
          "text": [
            "1/1 [==============================] - 0s 36ms/step\n",
            "actual prediction: 0.4501977\n"
          ]
        }
      ]
    },
    {
      "cell_type": "code",
      "source": [
        "xt = [0,1],[0,1],[1,0],[1,1]\n",
        "yt=[0,0,1,1]\n",
        "model2=Sequential([Dense(1, input_shape=(2,), activation='sigmoid')])\n",
        "model2.compile(loss='binary_crossentropy', optimizer=Adam(learning_rate=0.1),metrics=['accuracy'])\n",
        "model2.fit(xt, yt, epochs=1000, verbose=0)\n",
        "ndata=[[0,1],[1,0]]\n",
        "pd2=model2.predict(ndata)\n",
        "for i, pd2 in enumerate(pd2):\n",
        "  print(f\"input {ndata[i]}\\nactual prediction:, {round(pd2[0])}\")"
      ],
      "metadata": {
        "colab": {
          "base_uri": "https://localhost:8080/"
        },
        "id": "TqBcvUExk1cs",
        "outputId": "84c65339-680e-498f-e2f3-9a5e93e86c54"
      },
      "execution_count": 27,
      "outputs": [
        {
          "output_type": "stream",
          "name": "stdout",
          "text": [
            "1/1 [==============================] - 0s 56ms/step\n",
            "input [0, 1]\n",
            "actual prediction:, 0\n",
            "input [1, 0]\n",
            "actual prediction:, 1\n"
          ]
        }
      ]
    },
    {
      "cell_type": "code",
      "source": [],
      "metadata": {
        "id": "mqP_ViJPr7Iq"
      },
      "execution_count": null,
      "outputs": []
    }
  ]
}